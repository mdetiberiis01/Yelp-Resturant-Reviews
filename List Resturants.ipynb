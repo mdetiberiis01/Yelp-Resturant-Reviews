{
 "cells": [
  {
   "cell_type": "code",
   "execution_count": 1,
   "metadata": {},
   "outputs": [],
   "source": [
    "import pandas as pd\n",
    "import numpy as np\n",
    "import requests\n",
    "import json\n",
    "from bs4 import BeautifulSoup\n",
    "from yelp.client import Client\n",
    "import matplotlib.pyplot as plt\n",
    "plt.style.use('seaborn')\n",
    "\n",
    "\n"
   ]
  },
  {
   "cell_type": "code",
   "execution_count": 2,
   "metadata": {},
   "outputs": [],
   "source": [
    "# lets try to get some data from yelp!\n",
    "url = 'https://api.yelp.com/v3/businesses/search'\n",
    "response = requests.get(url)"
   ]
  },
  {
   "cell_type": "code",
   "execution_count": 3,
   "metadata": {},
   "outputs": [
    {
     "data": {
      "text/plain": [
       "400"
      ]
     },
     "execution_count": 3,
     "metadata": {},
     "output_type": "execute_result"
    }
   ],
   "source": [
    "response.status_code\n"
   ]
  },
  {
   "cell_type": "code",
   "execution_count": 4,
   "metadata": {},
   "outputs": [
    {
     "name": "stdout",
     "output_type": "stream",
     "text": [
      "The status code is 200\n"
     ]
    }
   ],
   "source": [
    "#You have to use your API key to access the data!\n",
    "\n",
    "MY_API_KEY = \"spI_MF4tFqCx65dND029p6P19aN3Zwd3qYHDMsYrUaFa-55FroI4jdwMAtublbzcNSxR90mq29tDkMQQOZEvqmeVF6wRP8U8uVrVSzRiQLfo3hI87YWE9ht0t7kyX3Yx\" # replace this with your API key!\n",
    "client = Client(MY_API_KEY)\n",
    "\n",
    "\n",
    "API_HOST = 'https://api.yelp.com/reviews'\n",
    "SEARCH_PATH = '/v3/businesses/search'\n",
    "BUSINESS_PATH = '/v3/businesses/'\n",
    "\n",
    "url = 'https://api.yelp.com/v3/businesses/search'\n",
    "\n",
    "params = {'term':'Restaurants', \n",
    "          'location': 'Westchester, NY',}\n",
    "\n",
    "headers = {\n",
    "        'Authorization': 'Bearer {}'.format(MY_API_KEY),\n",
    "    }\n",
    "\n",
    "req = requests.get(url, params = params, headers = headers)\n",
    "\n",
    "#shows its connecting\n",
    "print('The status code is {}'.format(req.status_code))\n",
    "\n",
    "#Print the data \n",
    "\n",
    "#json.loads(req.text)"
   ]
  },
  {
   "cell_type": "code",
   "execution_count": 5,
   "metadata": {},
   "outputs": [],
   "source": [
    "#clean and format the data \n",
    "resturants = req.text\n",
    "resturants = json.loads(resturants)"
   ]
  },
  {
   "cell_type": "code",
   "execution_count": 6,
   "metadata": {},
   "outputs": [
    {
     "name": "stdout",
     "output_type": "stream",
     "text": [
      "businesses\n",
      "total\n",
      "region\n"
     ]
    }
   ],
   "source": [
    "# cleaning and exploring the data\n",
    "for key in resturants.keys():\n",
    "    print(key)"
   ]
  },
  {
   "cell_type": "code",
   "execution_count": 7,
   "metadata": {},
   "outputs": [
    {
     "data": {
      "text/plain": [
       "dict_keys(['id', 'alias', 'name', 'image_url', 'is_closed', 'url', 'review_count', 'categories', 'rating', 'coordinates', 'transactions', 'price', 'location', 'phone', 'display_phone', 'distance'])"
      ]
     },
     "execution_count": 7,
     "metadata": {},
     "output_type": "execute_result"
    }
   ],
   "source": [
    "#examine the first element of businesses\n",
    "resturants['businesses'][0].keys()"
   ]
  },
  {
   "cell_type": "code",
   "execution_count": 8,
   "metadata": {},
   "outputs": [],
   "source": [
    "#turn each busines into a dataframe \n",
    "resturants_df = pd.DataFrame.from_dict(resturants['businesses'])\n",
    "#resturants_df"
   ]
  },
  {
   "cell_type": "code",
   "execution_count": 9,
   "metadata": {},
   "outputs": [],
   "source": [
    "#resturants_df[(resturants_df.groupby(['rating'] > 4)]['name'])['rating'][:10]]\n",
    "                                               \n",
    "#True false  \n",
    "#resturants_df.loc[:,'rating'] > 4                                                                      \n",
    "                              \n",
    "#resturants_df[(resturants_df['rating'] > 4 & (resturants_df['review_count'] > 100))].sort_values(by = ['rating'], ascending = False)                                 \n",
    "                                               \n",
    "#resturants_df.head()                                           "
   ]
  },
  {
   "cell_type": "code",
   "execution_count": 10,
   "metadata": {},
   "outputs": [],
   "source": [
    "resturants_df.drop(['id','alias','image_url','is_closed','url', 'coordinates','transactions','phone','distance'], axis = 1, inplace = True)\n"
   ]
  },
  {
   "cell_type": "code",
   "execution_count": 11,
   "metadata": {},
   "outputs": [
    {
     "data": {
      "text/html": [
       "<div>\n",
       "<style scoped>\n",
       "    .dataframe tbody tr th:only-of-type {\n",
       "        vertical-align: middle;\n",
       "    }\n",
       "\n",
       "    .dataframe tbody tr th {\n",
       "        vertical-align: top;\n",
       "    }\n",
       "\n",
       "    .dataframe thead th {\n",
       "        text-align: right;\n",
       "    }\n",
       "</style>\n",
       "<table border=\"1\" class=\"dataframe\">\n",
       "  <thead>\n",
       "    <tr style=\"text-align: right;\">\n",
       "      <th></th>\n",
       "      <th>name</th>\n",
       "      <th>review_count</th>\n",
       "      <th>categories</th>\n",
       "      <th>rating</th>\n",
       "      <th>price</th>\n",
       "      <th>location</th>\n",
       "      <th>display_phone</th>\n",
       "    </tr>\n",
       "  </thead>\n",
       "  <tbody>\n",
       "    <tr>\n",
       "      <th>13</th>\n",
       "      <td>Dolphin South Trattoria</td>\n",
       "      <td>13</td>\n",
       "      <td>[{'alias': 'italian', 'title': 'Italian'}]</td>\n",
       "      <td>5.0</td>\n",
       "      <td>NaN</td>\n",
       "      <td>{'address1': '39 Wheeler Ave', 'address2': '',...</td>\n",
       "      <td></td>\n",
       "    </tr>\n",
       "    <tr>\n",
       "      <th>10</th>\n",
       "      <td>Bistro 146</td>\n",
       "      <td>107</td>\n",
       "      <td>[{'alias': 'seafood', 'title': 'Seafood'}, {'a...</td>\n",
       "      <td>4.5</td>\n",
       "      <td>$$$</td>\n",
       "      <td>{'address1': '146 Bedford Rd', 'address2': Non...</td>\n",
       "      <td>(914) 495-3992</td>\n",
       "    </tr>\n",
       "    <tr>\n",
       "      <th>6</th>\n",
       "      <td>Indi-Q Indian Bistro &amp; BBQ</td>\n",
       "      <td>90</td>\n",
       "      <td>[{'alias': 'indpak', 'title': 'Indian'}, {'ali...</td>\n",
       "      <td>4.5</td>\n",
       "      <td>$$</td>\n",
       "      <td>{'address1': '61 Old Route 22', 'address2': No...</td>\n",
       "      <td>(914) 273-5931</td>\n",
       "    </tr>\n",
       "    <tr>\n",
       "      <th>18</th>\n",
       "      <td>The Turk</td>\n",
       "      <td>228</td>\n",
       "      <td>[{'alias': 'turkish', 'title': 'Turkish'}]</td>\n",
       "      <td>4.5</td>\n",
       "      <td>$$</td>\n",
       "      <td>{'address1': '20 S Moger Ave', 'address2': '',...</td>\n",
       "      <td>(914) 864-1900</td>\n",
       "    </tr>\n",
       "    <tr>\n",
       "      <th>17</th>\n",
       "      <td>Goosefeather</td>\n",
       "      <td>61</td>\n",
       "      <td>[{'alias': 'cantonese', 'title': 'Cantonese'}]</td>\n",
       "      <td>4.5</td>\n",
       "      <td>NaN</td>\n",
       "      <td>{'address1': '49 E Sunnyside Ln', 'address2': ...</td>\n",
       "      <td>(914) 829-5454</td>\n",
       "    </tr>\n",
       "    <tr>\n",
       "      <th>8</th>\n",
       "      <td>Blue Hill At Stone Barns</td>\n",
       "      <td>729</td>\n",
       "      <td>[{'alias': 'newamerican', 'title': 'American (...</td>\n",
       "      <td>4.5</td>\n",
       "      <td>$$$$</td>\n",
       "      <td>{'address1': '630 Bedford Rd', 'address2': Non...</td>\n",
       "      <td>(914) 366-9600</td>\n",
       "    </tr>\n",
       "    <tr>\n",
       "      <th>19</th>\n",
       "      <td>The Cube Inn</td>\n",
       "      <td>4</td>\n",
       "      <td>[{'alias': 'cuban', 'title': 'Cuban'}, {'alias...</td>\n",
       "      <td>4.5</td>\n",
       "      <td>NaN</td>\n",
       "      <td>{'address1': '22 Main St', 'address2': '', 'ad...</td>\n",
       "      <td>(914) 372-7974</td>\n",
       "    </tr>\n",
       "    <tr>\n",
       "      <th>9</th>\n",
       "      <td>Amore Pizzeria &amp; Italian Kitchen</td>\n",
       "      <td>134</td>\n",
       "      <td>[{'alias': 'pizza', 'title': 'Pizza'}, {'alias...</td>\n",
       "      <td>4.0</td>\n",
       "      <td>$$</td>\n",
       "      <td>{'address1': '1 Kent Pl', 'address2': '', 'add...</td>\n",
       "      <td>(914) 273-3535</td>\n",
       "    </tr>\n",
       "    <tr>\n",
       "      <th>1</th>\n",
       "      <td>Casa Tequila Cocina &amp; Bar</td>\n",
       "      <td>10</td>\n",
       "      <td>[{'alias': 'cocktailbars', 'title': 'Cocktail ...</td>\n",
       "      <td>4.0</td>\n",
       "      <td>NaN</td>\n",
       "      <td>{'address1': '465 Main St', 'address2': None, ...</td>\n",
       "      <td>(914) 219-5777</td>\n",
       "    </tr>\n",
       "    <tr>\n",
       "      <th>11</th>\n",
       "      <td>Village Social - Kitchen &amp; Bar</td>\n",
       "      <td>358</td>\n",
       "      <td>[{'alias': 'newamerican', 'title': 'American (...</td>\n",
       "      <td>4.0</td>\n",
       "      <td>$$</td>\n",
       "      <td>{'address1': '251 E Main St', 'address2': '', ...</td>\n",
       "      <td>(914) 864-1255</td>\n",
       "    </tr>\n",
       "    <tr>\n",
       "      <th>12</th>\n",
       "      <td>Fatt Root</td>\n",
       "      <td>34</td>\n",
       "      <td>[{'alias': 'asianfusion', 'title': 'Asian Fusi...</td>\n",
       "      <td>4.0</td>\n",
       "      <td>$$</td>\n",
       "      <td>{'address1': '11 Wheeler Ave', 'address2': '',...</td>\n",
       "      <td>(914) 579-2552</td>\n",
       "    </tr>\n",
       "    <tr>\n",
       "      <th>4</th>\n",
       "      <td>Gavi Restaurant</td>\n",
       "      <td>54</td>\n",
       "      <td>[{'alias': 'italian', 'title': 'Italian'}]</td>\n",
       "      <td>4.0</td>\n",
       "      <td>$$$</td>\n",
       "      <td>{'address1': '15 Old Rt 22', 'address2': None,...</td>\n",
       "      <td>(914) 273-6900</td>\n",
       "    </tr>\n",
       "    <tr>\n",
       "      <th>14</th>\n",
       "      <td>KOKU Japanese Restaurant</td>\n",
       "      <td>72</td>\n",
       "      <td>[{'alias': 'japanese', 'title': 'Japanese'}, {...</td>\n",
       "      <td>4.0</td>\n",
       "      <td>$$</td>\n",
       "      <td>{'address1': '454 Main St', 'address2': '', 'a...</td>\n",
       "      <td>(914) 730-0077</td>\n",
       "    </tr>\n",
       "    <tr>\n",
       "      <th>15</th>\n",
       "      <td>D Thai Kitchen</td>\n",
       "      <td>202</td>\n",
       "      <td>[{'alias': 'thai', 'title': 'Thai'}]</td>\n",
       "      <td>4.0</td>\n",
       "      <td>$$</td>\n",
       "      <td>{'address1': '677 Commerce St', 'address2': ''...</td>\n",
       "      <td>(914) 741-1313</td>\n",
       "    </tr>\n",
       "    <tr>\n",
       "      <th>16</th>\n",
       "      <td>Purple Corn Peruvian Rotisserie Joint</td>\n",
       "      <td>118</td>\n",
       "      <td>[{'alias': 'peruvian', 'title': 'Peruvian'}]</td>\n",
       "      <td>4.0</td>\n",
       "      <td>$$</td>\n",
       "      <td>{'address1': '72 Mamaroneck Ave', 'address2': ...</td>\n",
       "      <td>(914) 339-0900</td>\n",
       "    </tr>\n",
       "    <tr>\n",
       "      <th>3</th>\n",
       "      <td>The Beehive</td>\n",
       "      <td>291</td>\n",
       "      <td>[{'alias': 'newamerican', 'title': 'American (...</td>\n",
       "      <td>4.0</td>\n",
       "      <td>$$</td>\n",
       "      <td>{'address1': '30 Old Rt 22', 'address2': None,...</td>\n",
       "      <td>(914) 765-0688</td>\n",
       "    </tr>\n",
       "    <tr>\n",
       "      <th>0</th>\n",
       "      <td>Southern Table Kitchen &amp; Bar</td>\n",
       "      <td>240</td>\n",
       "      <td>[{'alias': 'southern', 'title': 'Southern'}]</td>\n",
       "      <td>4.0</td>\n",
       "      <td>$$</td>\n",
       "      <td>{'address1': '39 Marble Ave', 'address2': '', ...</td>\n",
       "      <td>(914) 618-3355</td>\n",
       "    </tr>\n",
       "    <tr>\n",
       "      <th>7</th>\n",
       "      <td>Zero Otto Nove</td>\n",
       "      <td>117</td>\n",
       "      <td>[{'alias': 'pizza', 'title': 'Pizza'}, {'alias...</td>\n",
       "      <td>3.5</td>\n",
       "      <td>$$$</td>\n",
       "      <td>{'address1': '55 Old Route 22', 'address2': ''...</td>\n",
       "      <td>(914) 273-0089</td>\n",
       "    </tr>\n",
       "    <tr>\n",
       "      <th>5</th>\n",
       "      <td>Fortina</td>\n",
       "      <td>374</td>\n",
       "      <td>[{'alias': 'italian', 'title': 'Italian'}, {'a...</td>\n",
       "      <td>3.5</td>\n",
       "      <td>$$</td>\n",
       "      <td>{'address1': '17 Maple Ave', 'address2': None,...</td>\n",
       "      <td>(914) 273-0900</td>\n",
       "    </tr>\n",
       "    <tr>\n",
       "      <th>2</th>\n",
       "      <td>Moderne Barn</td>\n",
       "      <td>295</td>\n",
       "      <td>[{'alias': 'newamerican', 'title': 'American (...</td>\n",
       "      <td>3.5</td>\n",
       "      <td>$$$</td>\n",
       "      <td>{'address1': '430 Bedford Rd', 'address2': '',...</td>\n",
       "      <td>(914) 730-0001</td>\n",
       "    </tr>\n",
       "  </tbody>\n",
       "</table>\n",
       "</div>"
      ],
      "text/plain": [
       "                                     name  review_count  \\\n",
       "13                Dolphin South Trattoria            13   \n",
       "10                             Bistro 146           107   \n",
       "6              Indi-Q Indian Bistro & BBQ            90   \n",
       "18                               The Turk           228   \n",
       "17                           Goosefeather            61   \n",
       "8                Blue Hill At Stone Barns           729   \n",
       "19                           The Cube Inn             4   \n",
       "9        Amore Pizzeria & Italian Kitchen           134   \n",
       "1               Casa Tequila Cocina & Bar            10   \n",
       "11         Village Social - Kitchen & Bar           358   \n",
       "12                              Fatt Root            34   \n",
       "4                         Gavi Restaurant            54   \n",
       "14               KOKU Japanese Restaurant            72   \n",
       "15                         D Thai Kitchen           202   \n",
       "16  Purple Corn Peruvian Rotisserie Joint           118   \n",
       "3                             The Beehive           291   \n",
       "0            Southern Table Kitchen & Bar           240   \n",
       "7                          Zero Otto Nove           117   \n",
       "5                                 Fortina           374   \n",
       "2                            Moderne Barn           295   \n",
       "\n",
       "                                           categories  rating price  \\\n",
       "13         [{'alias': 'italian', 'title': 'Italian'}]     5.0   NaN   \n",
       "10  [{'alias': 'seafood', 'title': 'Seafood'}, {'a...     4.5   $$$   \n",
       "6   [{'alias': 'indpak', 'title': 'Indian'}, {'ali...     4.5    $$   \n",
       "18         [{'alias': 'turkish', 'title': 'Turkish'}]     4.5    $$   \n",
       "17     [{'alias': 'cantonese', 'title': 'Cantonese'}]     4.5   NaN   \n",
       "8   [{'alias': 'newamerican', 'title': 'American (...     4.5  $$$$   \n",
       "19  [{'alias': 'cuban', 'title': 'Cuban'}, {'alias...     4.5   NaN   \n",
       "9   [{'alias': 'pizza', 'title': 'Pizza'}, {'alias...     4.0    $$   \n",
       "1   [{'alias': 'cocktailbars', 'title': 'Cocktail ...     4.0   NaN   \n",
       "11  [{'alias': 'newamerican', 'title': 'American (...     4.0    $$   \n",
       "12  [{'alias': 'asianfusion', 'title': 'Asian Fusi...     4.0    $$   \n",
       "4          [{'alias': 'italian', 'title': 'Italian'}]     4.0   $$$   \n",
       "14  [{'alias': 'japanese', 'title': 'Japanese'}, {...     4.0    $$   \n",
       "15               [{'alias': 'thai', 'title': 'Thai'}]     4.0    $$   \n",
       "16       [{'alias': 'peruvian', 'title': 'Peruvian'}]     4.0    $$   \n",
       "3   [{'alias': 'newamerican', 'title': 'American (...     4.0    $$   \n",
       "0        [{'alias': 'southern', 'title': 'Southern'}]     4.0    $$   \n",
       "7   [{'alias': 'pizza', 'title': 'Pizza'}, {'alias...     3.5   $$$   \n",
       "5   [{'alias': 'italian', 'title': 'Italian'}, {'a...     3.5    $$   \n",
       "2   [{'alias': 'newamerican', 'title': 'American (...     3.5   $$$   \n",
       "\n",
       "                                             location   display_phone  \n",
       "13  {'address1': '39 Wheeler Ave', 'address2': '',...                  \n",
       "10  {'address1': '146 Bedford Rd', 'address2': Non...  (914) 495-3992  \n",
       "6   {'address1': '61 Old Route 22', 'address2': No...  (914) 273-5931  \n",
       "18  {'address1': '20 S Moger Ave', 'address2': '',...  (914) 864-1900  \n",
       "17  {'address1': '49 E Sunnyside Ln', 'address2': ...  (914) 829-5454  \n",
       "8   {'address1': '630 Bedford Rd', 'address2': Non...  (914) 366-9600  \n",
       "19  {'address1': '22 Main St', 'address2': '', 'ad...  (914) 372-7974  \n",
       "9   {'address1': '1 Kent Pl', 'address2': '', 'add...  (914) 273-3535  \n",
       "1   {'address1': '465 Main St', 'address2': None, ...  (914) 219-5777  \n",
       "11  {'address1': '251 E Main St', 'address2': '', ...  (914) 864-1255  \n",
       "12  {'address1': '11 Wheeler Ave', 'address2': '',...  (914) 579-2552  \n",
       "4   {'address1': '15 Old Rt 22', 'address2': None,...  (914) 273-6900  \n",
       "14  {'address1': '454 Main St', 'address2': '', 'a...  (914) 730-0077  \n",
       "15  {'address1': '677 Commerce St', 'address2': ''...  (914) 741-1313  \n",
       "16  {'address1': '72 Mamaroneck Ave', 'address2': ...  (914) 339-0900  \n",
       "3   {'address1': '30 Old Rt 22', 'address2': None,...  (914) 765-0688  \n",
       "0   {'address1': '39 Marble Ave', 'address2': '', ...  (914) 618-3355  \n",
       "7   {'address1': '55 Old Route 22', 'address2': ''...  (914) 273-0089  \n",
       "5   {'address1': '17 Maple Ave', 'address2': None,...  (914) 273-0900  \n",
       "2   {'address1': '430 Bedford Rd', 'address2': '',...  (914) 730-0001  "
      ]
     },
     "execution_count": 11,
     "metadata": {},
     "output_type": "execute_result"
    }
   ],
   "source": [
    "resturants_df[(resturants_df['rating'] > 4 & (resturants_df['review_count'] > 100))].sort_values(by = ['rating'], ascending = False)                                 \n"
   ]
  },
  {
   "cell_type": "code",
   "execution_count": 12,
   "metadata": {},
   "outputs": [],
   "source": [
    "#Visualize the data\n",
    "\n",
    "import matplotlib.pyplot as plt\n",
    "\n",
    "%matplotlib inline"
   ]
  },
  {
   "cell_type": "code",
   "execution_count": 17,
   "metadata": {},
   "outputs": [],
   "source": [
    "ax.plot(X, Y);\n",
    "\n",
    "Y = resturants_df.groupby(['name']).review_count.mean()\n",
    "\n",
    "#i think the second value is always the index of the other one but need to check \n",
    "X = Y.index\n",
    "\n"
   ]
  },
  {
   "cell_type": "code",
   "execution_count": null,
   "metadata": {},
   "outputs": [],
   "source": []
  },
  {
   "cell_type": "code",
   "execution_count": 21,
   "metadata": {},
   "outputs": [
    {
     "data": {
      "text/plain": [
       "([0, 1, 2, 3, 4, 5, 6, 7, 8, 9, 10, 11, 12, 13, 14, 15, 16, 17, 18, 19],\n",
       " <a list of 20 Text major ticklabel objects>)"
      ]
     },
     "execution_count": 21,
     "metadata": {},
     "output_type": "execute_result"
    },
    {
     "data": {
      "image/png": "[encoded data removed]",
      "text/plain": [
       "<Figure size 720x432 with 1 Axes>"
      ]
     },
     "metadata": {
      "needs_background": "light"
     },
     "output_type": "display_data"
    }
   ],
   "source": [
    "figure, ax = plt.subplots(figsize = (10,6))\n",
    "\n",
    "ax.bar(X,Y)\n",
    "\n",
    "ax.set_title('Resturants with most reviews')\n",
    "ax.set_xlabel('Resturant')\n",
    "ax.set_ylabel('# of reviews')\n",
    "plt.xticks(rotation=90)"
   ]
  },
  {
   "cell_type": "code",
   "execution_count": null,
   "metadata": {},
   "outputs": [],
   "source": []
  },
  {
   "cell_type": "code",
   "execution_count": null,
   "metadata": {},
   "outputs": [],
   "source": []
  },
  {
   "cell_type": "code",
   "execution_count": null,
   "metadata": {},
   "outputs": [],
   "source": []
  },
  {
   "cell_type": "code",
   "execution_count": null,
   "metadata": {},
   "outputs": [],
   "source": []
  },
  {
   "cell_type": "code",
   "execution_count": null,
   "metadata": {},
   "outputs": [],
   "source": []
  },
  {
   "cell_type": "code",
   "execution_count": null,
   "metadata": {},
   "outputs": [],
   "source": []
  }
 ],
 "metadata": {
  "kernelspec": {
   "display_name": "Python 3",
   "language": "python",
   "name": "python3"
  },
  "language_info": {
   "codemirror_mode": {
    "name": "ipython",
    "version": 3
   },
   "file_extension": ".py",
   "mimetype": "text/x-python",
   "name": "python",
   "nbconvert_exporter": "python",
   "pygments_lexer": "ipython3",
   "version": "3.8.3"
  }
 },
 "nbformat": 4,
 "nbformat_minor": 4
}
